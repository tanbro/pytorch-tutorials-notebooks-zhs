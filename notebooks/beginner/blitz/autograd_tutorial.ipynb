{
 "cells": [
  {
   "cell_type": "code",
   "execution_count": 1,
   "metadata": {
    "collapsed": false
   },
   "outputs": [],
   "source": [
    "%matplotlib inline"
   ]
  },
  {
   "cell_type": "markdown",
   "metadata": {},
   "source": [
    "# Autograd: 自动微分(Automatic differentiation)\n",
    "\n",
    "`autograd` 包 是 PyTorch 中所有神经网络的中心。\n",
    "我们首先简要查看，然后训练第一个神经网络。\n",
    "\n",
    "`autograd` 包为 Tensor 上的所有运算提供自动微分(automatic differentiation)。\n",
    "它是一个“运行中定义”(define-by-run)的框架，这意味着反向传播(backpropagation)算法由代码在运行时定义，并且每个迭代都可以不同。\n",
    "\n",
    "我们通过更简单的术语的例子来看看这些。"
   ]
  },
  {
   "cell_type": "markdown",
   "metadata": {},
   "source": [
    "## 张量(Tensor)\n",
    "\n",
    "`torch.Tensor` 是这个包的中心类。\n",
    "将它的 `.requires_grad` 属性设置为 `True`，即开始跟踪其上的所有运算。\n",
    "完成计算后调用 `.backward()` 即可自动完成梯度计算。\n",
    "该 tensor 梯度的累计和记录在 `.grad` 属性。\n",
    "\n",
    "要停止 tensor 的历史跟踪，可调用 `.detach()`，将它从计算历史中分离出来，防止它在将来的计算中被跟踪。\n",
    "\n",
    "要防止历史跟踪（和内存的使用），还可以将代码块放置在 `with torch.no_grad():` 中。\n",
    "这在评估模型时尤其有用，因为模型可能具有可训练的参数 `requires_grad=True` ，但进行评估时不需要梯度。\n",
    "\n",
    "还有一个类对于 autograd 实现非常重要——`Function`。\n",
    "\n",
    "`Tensor` 和 `Function` 互相连接并构建一个非循环图，它将完整的计算历史进行了编码记录。\n",
    "每个 tensor 都有一个 `.grad_fn` 属性，该属性指向创建这个 `Tensor` 的 `Function` （除了用户创建的 Tensor——他们的 `grand_fn` 是 `None`）\n",
    "\n",
    "如需计算导数(derivatives)，可以调用 `Tensor` 的 `.backward()` 方法。\n",
    "如果 `Tensor` 是标量（即它包只含单元素数据），则 `backward()` 不需要指定参数，但是如果它有多个元素，则需要指定一个形状匹配的 tensor 作为 `gradient` 参数。\n"
   ]
  },
  {
   "cell_type": "code",
   "execution_count": 2,
   "metadata": {
    "collapsed": false
   },
   "outputs": [],
   "source": [
    "import torch"
   ]
  },
  {
   "cell_type": "markdown",
   "metadata": {},
   "source": [
    "\n",
    "创建一个 tensor，设置 `requires_grad=True` 跟踪它的计算\n"
   ]
  },
  {
   "cell_type": "code",
   "execution_count": 3,
   "metadata": {
    "collapsed": false
   },
   "outputs": [
    {
     "name": "stdout",
     "output_type": "stream",
     "text": [
      "tensor([[1., 1.],\n",
      "        [1., 1.]], requires_grad=True)\n"
     ]
    }
   ],
   "source": [
    "x = torch.ones(2, 2, requires_grad=True)\n",
    "print(x)"
   ]
  },
  {
   "cell_type": "markdown",
   "metadata": {},
   "source": [
    "进行一次 tensor 运算：\n",
    "\n"
   ]
  },
  {
   "cell_type": "code",
   "execution_count": 4,
   "metadata": {
    "collapsed": false
   },
   "outputs": [
    {
     "name": "stdout",
     "output_type": "stream",
     "text": [
      "tensor([[3., 3.],\n",
      "        [3., 3.]], grad_fn=<AddBackward0>)\n"
     ]
    }
   ],
   "source": [
    "y = x + 2\n",
    "print(y)"
   ]
  },
  {
   "cell_type": "markdown",
   "metadata": {},
   "source": [
    "`y` 是这个运算的结果张量，所以它也有 `grad_fn`。\n",
    "\n"
   ]
  },
  {
   "cell_type": "code",
   "execution_count": 5,
   "metadata": {
    "collapsed": false
   },
   "outputs": [
    {
     "name": "stdout",
     "output_type": "stream",
     "text": [
      "<AddBackward0 object at 0x7f0e0159a438>\n"
     ]
    }
   ],
   "source": [
    "print(y.grad_fn)"
   ]
  },
  {
   "cell_type": "markdown",
   "metadata": {},
   "source": [
    "对 `y` 做更多运算\n",
    "\n"
   ]
  },
  {
   "cell_type": "code",
   "execution_count": 6,
   "metadata": {
    "collapsed": false
   },
   "outputs": [
    {
     "name": "stdout",
     "output_type": "stream",
     "text": [
      "tensor([[27., 27.],\n",
      "        [27., 27.]], grad_fn=<MulBackward0>) tensor(27., grad_fn=<MeanBackward1>)\n"
     ]
    }
   ],
   "source": [
    "z = y * y * 3\n",
    "out = z.mean()\n",
    "\n",
    "print(z, out)"
   ]
  },
  {
   "cell_type": "markdown",
   "metadata": {},
   "source": [
    "`.requires_grad_( ... )` 原位改变了已有 Tensor 的 `requires_grad` 标志。该输入标志的默认值是 `False`。\n",
    "\n"
   ]
  },
  {
   "cell_type": "code",
   "execution_count": 7,
   "metadata": {
    "collapsed": false
   },
   "outputs": [
    {
     "name": "stdout",
     "output_type": "stream",
     "text": [
      "False\n",
      "True\n",
      "<SumBackward0 object at 0x7f0d577bce80>\n"
     ]
    }
   ],
   "source": [
    "a = torch.randn(2, 2)\n",
    "a = ((a * 3) / (a - 1))\n",
    "print(a.requires_grad)\n",
    "a.requires_grad_(True)\n",
    "print(a.requires_grad)\n",
    "b = (a * a).sum()\n",
    "print(b.grad_fn)"
   ]
  },
  {
   "cell_type": "markdown",
   "metadata": {},
   "source": [
    "## 梯度(Gradients)\n",
    "\n",
    "现在进行反向传播(backprop)。\n",
    "由于 `out` 包含单个标量，`out.backward()`相当于 `out.backward(torch.tensor(1.))`。\n",
    "\n"
   ]
  },
  {
   "cell_type": "code",
   "execution_count": 8,
   "metadata": {
    "collapsed": false
   },
   "outputs": [],
   "source": [
    "out.backward()"
   ]
  },
  {
   "cell_type": "markdown",
   "metadata": {},
   "source": [
    "输出梯度 `d(out)/dx`\n",
    "\n"
   ]
  },
  {
   "cell_type": "code",
   "execution_count": 9,
   "metadata": {
    "collapsed": false
   },
   "outputs": [
    {
     "name": "stdout",
     "output_type": "stream",
     "text": [
      "tensor([[4.5000, 4.5000],\n",
      "        [4.5000, 4.5000]])\n"
     ]
    }
   ],
   "source": [
    "print(x.grad)"
   ]
  },
  {
   "cell_type": "markdown",
   "metadata": {},
   "source": [
    "得到一个 `4.5` 矩阵。\n",
    "\n",
    "将 `out` *Tensor* 设为 “$o$”。\n",
    "我们有\n",
    "\n",
    "$o = \\frac{1}{4}\\sum_i z_i$\n",
    "\n",
    "$z_i = 3(x_i+2)^2$\n",
    "\n",
    "以及\n",
    "\n",
    "$z_i\\bigr\\rvert_{x_i=1} = 27$\n",
    "\n",
    "所以，\n",
    "\n",
    "$\\frac{\\partial o}{\\partial x_i} = \\frac{3}{2}(x_i+2)$\n",
    "\n",
    "那么\n",
    "\n",
    "$\\frac{\\partial o}{\\partial x_i}\\bigr\\rvert_{x_i=1} = \\frac{9}{2} = 4.5$\n",
    "\n"
   ]
  },
  {
   "cell_type": "markdown",
   "metadata": {},
   "source": [
    "在数学上，若有向量值函数 $\\vec{y}=f(\\vec{x})$，\n",
    "则 $\\vec{y}$ 的梯度是关于 $\\vec{x}$ 的雅可比矩阵：\n",
    "\n",
    "$$\n",
    "\\begin{align}J=\\left(\\begin{array}{ccc}\n",
    "   \\frac{\\partial y_{1}}{\\partial x_{1}} & \\cdots & \\frac{\\partial y_{1}}{\\partial x_{n}}\\\\\n",
    "   \\vdots & \\ddots & \\vdots\\\\\n",
    "   \\frac{\\partial y_{m}}{\\partial x_{1}} & \\cdots & \\frac{\\partial y_{m}}{\\partial x_{n}}\n",
    "   \\end{array}\\right)\\end{align}\n",
    "$$\n",
    "\n",
    "一般来说，`torch.autograd` 就是一个计算向量雅可比积的引擎。\n",
    "也就是说，对给定的任意向量\n",
    "$v=\\left(\\begin{array}{cccc} v_{1} & v_{2} & \\cdots & v_{m}\\end{array}\\right)^{T}$，\n",
    "计算 $v^{T}\\cdot J$ 的积。\n",
    "如果 $v$ 恰好是标量函数 $l=g\\left(\\vec{y}\\right)$ 的梯度，换而言之，\n",
    "$v=\\left(\\begin{array}{ccc}\\frac{\\partial l}{\\partial y_{1}} & \\cdots & \\frac{\\partial l}{\\partial y_{m}}\\end{array}\\right)^{T}$，\n",
    "那么，由链规则(chain rule)可知，向量雅可比积是 $l$ 关于 $\\vec{x}$ 的梯度：\n",
    "\n",
    "$$\n",
    "\\begin{align}J^{T}\\cdot v=\\left(\\begin{array}{ccc}\n",
    "   \\frac{\\partial y_{1}}{\\partial x_{1}} & \\cdots & \\frac{\\partial y_{m}}{\\partial x_{1}}\\\\\n",
    "   \\vdots & \\ddots & \\vdots\\\\\n",
    "   \\frac{\\partial y_{1}}{\\partial x_{n}} & \\cdots & \\frac{\\partial y_{m}}{\\partial x_{n}}\n",
    "   \\end{array}\\right)\\left(\\begin{array}{c}\n",
    "   \\frac{\\partial l}{\\partial y_{1}}\\\\\n",
    "   \\vdots\\\\\n",
    "   \\frac{\\partial l}{\\partial y_{m}}\n",
    "   \\end{array}\\right)=\\left(\\begin{array}{c}\n",
    "   \\frac{\\partial l}{\\partial x_{1}}\\\\\n",
    "   \\vdots\\\\\n",
    "   \\frac{\\partial l}{\\partial x_{n}}\n",
    "   \\end{array}\\right)\\end{align}\n",
    "$$\n",
    "\n",
    "(注意 $v^{T}\\cdot J$ 给出了一个行向量，它可被视作 $J^{T}\\cdot v$ 列向量。)\n",
    "\n",
    "向量雅可比积的这些性质使得将外部梯度送到非标量输出模型中变得非常方便。\n",
    "\n"
   ]
  },
  {
   "cell_type": "markdown",
   "metadata": {},
   "source": [
    "现在，我们看一个向量雅可比积的例子：\n",
    "\n"
   ]
  },
  {
   "cell_type": "code",
   "execution_count": 10,
   "metadata": {
    "collapsed": false
   },
   "outputs": [
    {
     "name": "stdout",
     "output_type": "stream",
     "text": [
      "tensor([ -195.7767, -1443.5500,    69.6174], grad_fn=<MulBackward0>)\n"
     ]
    }
   ],
   "source": [
    "x = torch.randn(3, requires_grad=True)\n",
    "\n",
    "y = x * 2\n",
    "while y.data.norm() < 1000:\n",
    "    y = y * 2\n",
    "\n",
    "print(y)"
   ]
  },
  {
   "cell_type": "markdown",
   "metadata": {},
   "source": [
    "现在，在这种情况下，`y` 不再是标量了。\n",
    "`torch.autograd` 无法直接计算完整的向量雅可比行列式，\n",
    "但是如果我们只是需要向量-向量-雅可比积, 只要把向量传给参数 `backward`:\n",
    "\n"
   ]
  },
  {
   "cell_type": "code",
   "execution_count": 11,
   "metadata": {
    "collapsed": false
   },
   "outputs": [
    {
     "name": "stdout",
     "output_type": "stream",
     "text": [
      "tensor([2.0480e+02, 2.0480e+03, 2.0480e-01])\n"
     ]
    }
   ],
   "source": [
    "v = torch.tensor([0.1, 1.0, 0.0001], dtype=torch.float)\n",
    "y.backward(v)\n",
    "\n",
    "print(x.grad)"
   ]
  },
  {
   "cell_type": "markdown",
   "metadata": {},
   "source": [
    "另外，用 `.requires_grad=True:` 包含代码块可以让 autograd 停止跟踪 Tensor 的历史\n",
    "\n"
   ]
  },
  {
   "cell_type": "code",
   "execution_count": 12,
   "metadata": {
    "collapsed": false
   },
   "outputs": [
    {
     "name": "stdout",
     "output_type": "stream",
     "text": [
      "True\n",
      "True\n",
      "False\n"
     ]
    }
   ],
   "source": [
    "print(x.requires_grad)\n",
    "print((x ** 2).requires_grad)\n",
    "\n",
    "with torch.no_grad():\n",
    "    print((x ** 2).requires_grad)"
   ]
  },
  {
   "cell_type": "markdown",
   "metadata": {},
   "source": [
    "> **延后阅读:**\n",
    "\n",
    "`autograd` 和 ``Function`` 的文档在 <https://pytorch.org/docs/autograd>\n",
    "\n"
   ]
  }
 ],
 "metadata": {
  "kernelspec": {
   "display_name": "pytorch-tutorials",
   "language": "python",
   "name": "pytorch-tutorials"
  },
  "language_info": {
   "codemirror_mode": {
    "name": "ipython",
    "version": 3
   },
   "file_extension": ".py",
   "mimetype": "text/x-python",
   "name": "python",
   "nbconvert_exporter": "python",
   "pygments_lexer": "ipython3",
   "version": "3.6.7"
  }
 },
 "nbformat": 4,
 "nbformat_minor": 2
}
