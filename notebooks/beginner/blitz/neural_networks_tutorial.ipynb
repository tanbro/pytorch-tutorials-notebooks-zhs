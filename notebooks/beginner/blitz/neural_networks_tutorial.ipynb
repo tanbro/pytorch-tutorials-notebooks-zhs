{
 "cells": [
  {
   "cell_type": "code",
   "execution_count": 1,
   "metadata": {},
   "outputs": [],
   "source": [
    "%matplotlib inline"
   ]
  },
  {
   "cell_type": "markdown",
   "metadata": {},
   "source": [
    "# 神经网络(Neural Networks)\n",
    "\n",
    "可以使用 `torch.nn` 包构造神经网络。\n",
    "\n",
    "现在我们已经初步了解了 `autograd`，`nn` 依靠 `autograd` 定义模型以及求微分。\n",
    "一个 `nn.Module` 包含多个层，一个返回 `output` 的 `forward(input)` 方法。\n",
    "\n",
    "例如，这个数字图像分类的网络图：\n",
    "\n",
    "![convnet](https://pytorch.org/tutorials/_images/mnist.png)\n",
    "\n",
    "\n",
    "   convnet\n",
    "\n",
    "它是一个简单的前馈网络。它接受输入，一个接一个地通过几个层输入，然后最终给出输出。\n",
    "\n",
    "神经网络的典型训练程序如下：\n",
    "\n",
    "- 定义具有一些可学习参数（或权重）的神经网络\n",
    "- 迭代输入数据集\n",
    "- 通过网络处理输入\n",
    "- 计算损失（输出距离正确多远）\n",
    "- 将渐变传播回网络参数\n",
    "- 更新网络权重，通常使用简单的更新规则：`weight = weight - learning_rate * gradient`\n",
    "\n"
   ]
  },
  {
   "cell_type": "markdown",
   "metadata": {},
   "source": [
    "## 定义网络\n",
    "\n",
    "我们来定义网络:\n"
   ]
  },
  {
   "cell_type": "code",
   "execution_count": 2,
   "metadata": {},
   "outputs": [
    {
     "name": "stdout",
     "output_type": "stream",
     "text": [
      "Net(\n",
      "  (conv1): Conv2d(1, 6, kernel_size=(5, 5), stride=(1, 1))\n",
      "  (conv2): Conv2d(6, 16, kernel_size=(5, 5), stride=(1, 1))\n",
      "  (fc1): Linear(in_features=400, out_features=120, bias=True)\n",
      "  (fc2): Linear(in_features=120, out_features=84, bias=True)\n",
      "  (fc3): Linear(in_features=84, out_features=10, bias=True)\n",
      ")\n"
     ]
    }
   ],
   "source": [
    "import torch\n",
    "import torch.nn as nn\n",
    "import torch.nn.functional as F\n",
    "\n",
    "\n",
    "class Net(nn.Module):\n",
    "\n",
    "    def __init__(self):\n",
    "        super(Net, self).__init__()\n",
    "        # 1 input image channel, 6 output channels, 5x5 square convolution\n",
    "        # kernel\n",
    "        self.conv1 = nn.Conv2d(1, 6, 5)\n",
    "        self.conv2 = nn.Conv2d(6, 16, 5)\n",
    "        # an affine operation: y = Wx + b\n",
    "        self.fc1 = nn.Linear(16 * 5 * 5, 120)\n",
    "        self.fc2 = nn.Linear(120, 84)\n",
    "        self.fc3 = nn.Linear(84, 10)\n",
    "\n",
    "    def forward(self, x):\n",
    "        # Max pooling over a (2, 2) window\n",
    "        x = F.max_pool2d(F.relu(self.conv1(x)), (2, 2))\n",
    "        # If the size is a square you can only specify a single number\n",
    "        x = F.max_pool2d(F.relu(self.conv2(x)), 2)\n",
    "        x = x.view(-1, self.num_flat_features(x))\n",
    "        x = F.relu(self.fc1(x))\n",
    "        x = F.relu(self.fc2(x))\n",
    "        x = self.fc3(x)\n",
    "        return x\n",
    "\n",
    "    def num_flat_features(self, x):\n",
    "        size = x.size()[1:]  # all dimensions except the batch dimension\n",
    "        num_features = 1\n",
    "        for s in size:\n",
    "            num_features *= s\n",
    "        return num_features\n",
    "\n",
    "\n",
    "net = Net()\n",
    "print(net)"
   ]
  },
  {
   "cell_type": "markdown",
   "metadata": {},
   "source": [
    "我们只需定义 `forward` 函数，`backward` 函数（梯度在这里被计算）由 `autograd` 自动生成。\n",
    "在 `forward` 函数中可以使用任何一种张量运算。\n",
    "\n",
    "模型的可学习参数由 `net.parameters()` 返回\n",
    "\n"
   ]
  },
  {
   "cell_type": "code",
   "execution_count": 3,
   "metadata": {},
   "outputs": [
    {
     "name": "stdout",
     "output_type": "stream",
     "text": [
      "10\n",
      "torch.Size([6, 1, 5, 5])\n"
     ]
    }
   ],
   "source": [
    "params = list(net.parameters())\n",
    "print(len(params))\n",
    "print(params[0].size())  # conv1's .weight"
   ]
  },
  {
   "cell_type": "markdown",
   "metadata": {},
   "source": [
    "让我们尝试一个随机的32x32输入。注意：此网络（LeNet）的预期输入大小为32x32。要在MNIST数据集上使用此网络，请将数据集中的图像调整为32x32。\n",
    "\n"
   ]
  },
  {
   "cell_type": "code",
   "execution_count": 4,
   "metadata": {},
   "outputs": [
    {
     "name": "stdout",
     "output_type": "stream",
     "text": [
      "tensor([[-0.1283, -0.0358, -0.1374,  0.0241,  0.1193, -0.0086,  0.1422, -0.0922,\n",
      "         -0.1091,  0.0755]], grad_fn=<AddmmBackward>)\n"
     ]
    }
   ],
   "source": [
    "input = torch.randn(1, 1, 32, 32)\n",
    "out = net(input)\n",
    "print(out)"
   ]
  },
  {
   "cell_type": "markdown",
   "metadata": {},
   "source": [
    "将所有参数和带有随机梯度的反向传播的梯度缓冲区归零：\n",
    "\n",
    "\n"
   ]
  },
  {
   "cell_type": "code",
   "execution_count": 5,
   "metadata": {},
   "outputs": [],
   "source": [
    "net.zero_grad()\n",
    "out.backward(torch.randn(1, 10))"
   ]
  },
  {
   "cell_type": "markdown",
   "metadata": {},
   "source": [
    "> **Note：**\n",
    "> \n",
    "> ----------\n",
    ">\n",
    "> `torch.nn` 仅支持小批次。整个 `torch.nn` 包仅支持小批次的样本，而不是单个样本。\n",
    ">\n",
    "> 例如，`nn.Conv2d` 采用 `nSamples x nChannels x Height x Width` 4维张量。\n",
    ">\n",
    "> 如果是单个样本，要用 `input.unsqueeze(0)` 把它加到一个假的批次维度。\n",
    "\n",
    "在继续之前，让我们回顾一下到目前为止看到的所有课程。\n",
    "\n",
    "**概括：**\n",
    "  - `torch.Tensor` - 它是支持像`backward()`这种autograd运算的*多维数组*，还能*保存*张量的*梯度*。\n",
    "  - `nn.Module` - 神经网络模块。提供*方便的参数封装方式*，移至GPU、导出、加载等辅助功能。\n",
    "  - `nn.Parameter` - 一种张量，*当赋值给`Module`对象的属性时，它作为参数被自动注册*。\n",
    "  - `autograd.Function` - 实现*autograde运算的`forward()`和`backward()`定义*。\n",
    "     每次`Tensor`运算至少创建一个`Function`节点，该节点连接到创建`Tensor`的`Function`对象，并*编码其历史*。\n",
    "\n",
    "**在这一点上，我们涵盖了：**\n",
    "  - 定义审机构网络Defining a neural network\n",
    "  - 处理输入调用backward\n",
    "\n",
    "**还剩下：**\n",
    "  - 计算损失\n",
    "  - 更新网络权重"
   ]
  },
  {
   "cell_type": "markdown",
   "metadata": {},
   "source": [
    "## 损失函数\n",
    "\n",
    "损失函数采用`output`，`target`输入对，计算输出与目标的距离估算值。\n",
    "\n",
    "`nn` 包下有多种不同的[损失函数](https://pytorch.org/docs/nn.html#loss-functions)。\n",
    "比如 `nn.MSELoss` 就是一个简单的损失函数，它计算输入和目标之间的均方误差。\n",
    "\n",
    "例如："
   ]
  },
  {
   "cell_type": "code",
   "execution_count": 6,
   "metadata": {},
   "outputs": [
    {
     "name": "stdout",
     "output_type": "stream",
     "text": [
      "tensor(1.0566, grad_fn=<MseLossBackward>)\n"
     ]
    }
   ],
   "source": [
    "output = net(input)\n",
    "target = torch.randn(10)  # a dummy target, for example\n",
    "target = target.view(1, -1)  # make it the same shape as output\n",
    "criterion = nn.MSELoss()\n",
    "\n",
    "loss = criterion(output, target)\n",
    "print(loss)"
   ]
  },
  {
   "cell_type": "markdown",
   "metadata": {},
   "source": [
    "现在，如果按 `loss` 的反方向，使用 `.grad_fn` 属性，就可看到这样的计算图：\n",
    "\n",
    "    input -> conv2d -> relu -> maxpool2d -> conv2d -> relu -> maxpool2d\n",
    "          -> view -> linear -> relu -> linear -> relu -> linear\n",
    "          -> MSELoss\n",
    "          -> loss\n",
    "\n",
    "所以，当我们调用 `loss.backward()`，就会求整个图关于损失的微分，图中所有具有 `requires_grad=True` 的 `Tensor` 对象的 `.grad` 张量属性都使用梯度累加。\n",
    "\n",
    "为了说明这一点，我们进行几步反向：\n",
    "\n"
   ]
  },
  {
   "cell_type": "code",
   "execution_count": 7,
   "metadata": {},
   "outputs": [
    {
     "name": "stdout",
     "output_type": "stream",
     "text": [
      "<MseLossBackward object at 0x7fe026ecc278>\n",
      "<AddmmBackward object at 0x7fe026ecc320>\n",
      "<AccumulateGrad object at 0x7fe026ecc278>\n"
     ]
    }
   ],
   "source": [
    "print(loss.grad_fn)  # MSELoss\n",
    "print(loss.grad_fn.next_functions[0][0])  # Linear\n",
    "print(loss.grad_fn.next_functions[0][0].next_functions[0][0])  # ReLU"
   ]
  },
  {
   "cell_type": "markdown",
   "metadata": {},
   "source": [
    "## 反向传播\n",
    "\n",
    "要反向传播误差，我们锁要做的就是 `loss.backward()`。\n",
    "不过我们需要清除已有的梯度，否则梯度将被累积到已有的梯度上。\n",
    "\n",
    "\n",
    "现在可以调用 `loss.backward()`，看看 conv1 在调用之前和之后和偏差梯度。\n",
    "\n"
   ]
  },
  {
   "cell_type": "code",
   "execution_count": 8,
   "metadata": {},
   "outputs": [
    {
     "name": "stdout",
     "output_type": "stream",
     "text": [
      "conv1.bias.grad before backward\n",
      "tensor([0., 0., 0., 0., 0., 0.])\n",
      "conv1.bias.grad after backward\n",
      "tensor([-0.0024,  0.0039, -0.0143,  0.0135,  0.0240,  0.0071])\n"
     ]
    }
   ],
   "source": [
    "net.zero_grad()     # zeroes the gradient buffers of all parameters\n",
    "\n",
    "print('conv1.bias.grad before backward')\n",
    "print(net.conv1.bias.grad)\n",
    "\n",
    "loss.backward()\n",
    "\n",
    "print('conv1.bias.grad after backward')\n",
    "print(net.conv1.bias.grad)"
   ]
  },
  {
   "cell_type": "markdown",
   "metadata": {},
   "source": [
    "到目前位置, 我们已经看到了如何使用损失函数。\n",
    "\n",
    "**延后阅读：**\n",
    "\n",
    "  神经网络包具有由于构建深度神经网络的各种模块和损失函数。带有文档的完整列表在 <https://pytorch.org/docs/nn>\n",
    "\n",
    "**还剩下一个要学习的是：**\n",
    "\n",
    "  - 更新网络的权重"
   ]
  },
  {
   "cell_type": "markdown",
   "metadata": {
    "toc-hr-collapsed": true
   },
   "source": [
    "## 更新权重\n",
    "\n",
    "随机梯度下降是(SGD)是最简单的更新规则：\n",
    "\n",
    "     weight = weight - learning_rate * gradient\n",
    "\n",
    "可以用简单的Python代码实现它：\n",
    "\n",
    "```python\n",
    "learning_rate = 0.01\n",
    "for f in net.parameters():\n",
    "    f.data.sub_(f.grad.data * learning_rate)\n",
    "```\n",
    "\n",
    "不过，当使用神经网络时，还需要使用各种不同的更新规则，例如SGD，Nesterov-SGD，Adam，RMSProp等。\n",
    "为了实现这一点，我们构建了一个小包：`torch.optim`，它实现了所有这些方法。使用它非常简单：\n"
   ]
  },
  {
   "cell_type": "code",
   "execution_count": 9,
   "metadata": {},
   "outputs": [],
   "source": [
    "import torch.optim as optim\n",
    "\n",
    "# create your optimizer\n",
    "optimizer = optim.SGD(net.parameters(), lr=0.01)\n",
    "\n",
    "# in your training loop:\n",
    "optimizer.zero_grad()   # zero the gradient buffers\n",
    "output = net(input)\n",
    "loss = criterion(output, target)\n",
    "loss.backward()\n",
    "optimizer.step()    # Does the update"
   ]
  },
  {
   "cell_type": "markdown",
   "metadata": {},
   "source": [
    "> **Note：**\n",
    ">\n",
    "> ----------\n",
    ">\n",
    "> 观察如何使用 `optimizer.zero_grad()` 手动将梯度缓冲区设置为零。这是因为梯度累积的，参见 [反向传播](#反向传播) 部分中的说明。"
   ]
  }
 ],
 "metadata": {
  "kernelspec": {
   "display_name": "'Python Interactive'",
   "language": "python",
   "name": "c9cf40e8-28ae-402d-a8fb-9f203f2ba34b"
  },
  "language_info": {
   "codemirror_mode": {
    "name": "ipython",
    "version": 3
   },
   "file_extension": ".py",
   "mimetype": "text/x-python",
   "name": "python",
   "nbconvert_exporter": "python",
   "pygments_lexer": "ipython3",
   "version": "3.6.7"
  }
 },
 "nbformat": 4,
 "nbformat_minor": 2
}
