{
 "cells": [
  {
   "cell_type": "markdown",
   "metadata": {},
   "source": [
    "# 使用字符级 RNN 对名字进行分类\n",
    "\n",
    "**作者**: [Sean Robertson](https://github.com/spro/practical-pytorch)\n",
    "\n",
    "\n",
    "我们将构建以及训练一个基础的字符级 RNN 来对单词进行分类。\n",
    "字符级 RNN 将单词作为字符序列读取——在每个步骤都输出预测和“隐藏层”，然后将上一步的隐藏状态输入到下一步。\n",
    "我们采用最终的预测作为输出，即单词属于哪个分类。\n",
    "\n",
    "具体来说，我们使用来自18种语言的几千个姓氏进行训练，并根据拼写预测名字来自那种语言：\n",
    "\n",
    "```console\n",
    "$ python predict.py Hinton\n",
    "(-0.47) Scottish\n",
    "(-1.52) English\n",
    "(-3.57) Irish\n",
    "\n",
    "$ python predict.py Schmidhuber\n",
    "(-0.19) German\n",
    "(-2.48) Czech\n",
    "(-2.68) Dutch\n",
    "```\n",
    "\n",
    "**推荐阅读：**\n",
    "\n",
    "假设您至少安装了 PyTorch，了解 Python，且理解张量：\n",
    "\n",
    "- https://pytorch.org/: 有关于安装说明\n",
    "- :doc:`/beginner/deep_learning_60min_blitz` to get started with PyTorch in general\n",
    "- :doc:`/beginner/pytorch_with_examples` for a wide and deep overview\n",
    "- :doc:`/beginner/former_torchies_tutorial` if you are former Lua Torch user\n",
    "\n",
    "了解 RNN 及其工作方式是也是很有用的：\n",
    "\n",
    "- [The Unreasonable Effectiveness of Recurrent Neural Networks](https://karpathy.github.io/2015/05/21/rnn-effectiveness/)\n",
    "  展示了一系列现实生活中的例子\n",
    "- [Understanding LSTM Networks](https://colah.github.io/posts/2015-08-Understanding-LSTMs/)\n",
    "  它是特别针对 LSTM 的，但也提供了关于 RNN 的一般信息"
   ]
  },
  {
   "cell_type": "markdown",
   "metadata": {
    "toc-hr-collapsed": true
   },
   "source": [
    "## 准备数据\n",
    "\n",
    "!!!note\n",
    "\n",
    "    从 <https://download.pytorch.org/tutorial/data.zip> 下载数据，并解压到当前目录。\n",
    "\n",
    "`data/names`子目录中有18个文本文件，文件名的格式是\"[language].txt\"。\n",
    "每个文件包含许多名字，每个名字一行。这些名字字符主要是罗马化的（但我们仍然需要将它们从 Unicode 转为 ASCII）。\n",
    "\n",
    "最终得到一个“语言=>名字列表”字典，形如 `{language: [names ...]}`。\n",
    "通用变量 \"category\" 和 \"line\"（在本例中用于表示语言和名字）对以后的扩展有用。"
   ]
  },
  {
   "cell_type": "code",
   "execution_count": 1,
   "metadata": {
    "collapsed": false
   },
   "outputs": [
    {
     "name": "stdout",
     "output_type": "stream",
     "text": [
      "['data/names/Arabic.txt', 'data/names/Chinese.txt', 'data/names/Czech.txt', 'data/names/Dutch.txt', 'data/names/English.txt', 'data/names/French.txt', 'data/names/German.txt', 'data/names/Greek.txt', 'data/names/Irish.txt', 'data/names/Italian.txt', 'data/names/Japanese.txt', 'data/names/Korean.txt', 'data/names/Polish.txt', 'data/names/Portuguese.txt', 'data/names/Russian.txt', 'data/names/Scottish.txt', 'data/names/Spanish.txt', 'data/names/Vietnamese.txt']\n",
      "Slusarski\n"
     ]
    }
   ],
   "source": [
    "from __future__ import unicode_literals, print_function, division\n",
    "from io import open\n",
    "import glob\n",
    "import os\n",
    "\n",
    "def findFiles(path):\n",
    "    return glob.glob(path)\n",
    "\n",
    "print(findFiles('data/names/*.txt'))\n",
    "\n",
    "import unicodedata\n",
    "import string\n",
    "\n",
    "all_letters = string.ascii_letters + \" .,;'\"\n",
    "n_letters = len(all_letters)\n",
    "\n",
    "# Turn a Unicode string to plain ASCII, thanks to https://stackoverflow.com/a/518232/2809427\n",
    "def unicodeToAscii(s):\n",
    "    return ''.join(\n",
    "        c for c in unicodedata.normalize('NFD', s)\n",
    "        if unicodedata.category(c) != 'Mn' and c in all_letters\n",
    "    )\n",
    "\n",
    "print(unicodeToAscii('Ślusàrski'))\n",
    "\n",
    "# Build the category_lines dictionary, a list of names per language\n",
    "category_lines = {}\n",
    "all_categories = []\n",
    "\n",
    "# Read a file and split into lines\n",
    "def readLines(filename):\n",
    "    lines = open(filename, encoding='utf-8').read().strip().split('\\n')\n",
    "    return [unicodeToAscii(line) for line in lines]\n",
    "\n",
    "for filename in findFiles('data/names/*.txt'):\n",
    "    category = os.path.splitext(os.path.basename(filename))[0]\n",
    "    all_categories.append(category)\n",
    "    lines = readLines(filename)\n",
    "    category_lines[category] = lines\n",
    "\n",
    "n_categories = len(all_categories)"
   ]
  },
  {
   "cell_type": "markdown",
   "metadata": {},
   "source": [
    "现在我们有了变量 `category_lines`, 它是一个映射每一类型（语言）与行列表（名字）的字典。\n",
    "我们还得到了变量 `all_categories`（仅是语言列表）与 `n_categories` 共以后使用。\n",
    "\n",
    "\n"
   ]
  },
  {
   "cell_type": "code",
   "execution_count": 2,
   "metadata": {
    "collapsed": false
   },
   "outputs": [
    {
     "name": "stdout",
     "output_type": "stream",
     "text": [
      "['Abandonato', 'Abatangelo', 'Abatantuono', 'Abate', 'Abategiovanni']\n"
     ]
    }
   ],
   "source": [
    "print(category_lines['Italian'][:5])"
   ]
  },
  {
   "cell_type": "markdown",
   "metadata": {},
   "source": [
    "### 将名字转换为张量\n",
    "\n",
    "现在我们已经组织好了所有的名字，还需要把他们转为张量才能使用。\n",
    "\n",
    "我们使用大小为 `<1 x n_letters>` 的“独热（on-hot）向量”表征一个字母。\n",
    "独热向量中除了当前字母位置是1,其它都用0填充，比如 `\"b\" = <0 1 0 0 0 ...>`。\n",
    "\n",
    "我们将这样的向量组合成形状为 `<line_length x 1 x n_letters>` 2维矩阵，就形成了一个单词。\n",
    "\n",
    "额外的1维是因为PyTorch假定所有东西都是批量的 - 我们这里使用批量大小正好是1。\n",
    "\n",
    "\n"
   ]
  },
  {
   "cell_type": "code",
   "execution_count": 3,
   "metadata": {
    "collapsed": false
   },
   "outputs": [
    {
     "name": "stdout",
     "output_type": "stream",
     "text": [
      "tensor([[0., 0., 0., 0., 0., 0., 0., 0., 0., 0., 0., 0., 0., 0., 0., 0., 0., 0.,\n",
      "         0., 0., 0., 0., 0., 0., 0., 0., 0., 0., 0., 0., 0., 0., 0., 0., 0., 1.,\n",
      "         0., 0., 0., 0., 0., 0., 0., 0., 0., 0., 0., 0., 0., 0., 0., 0., 0., 0.,\n",
      "         0., 0., 0.]])\n",
      "torch.Size([5, 1, 57])\n"
     ]
    }
   ],
   "source": [
    "import torch\n",
    "\n",
    "# Find letter index from all_letters, e.g. \"a\" = 0\n",
    "def letterToIndex(letter):\n",
    "    return all_letters.find(letter)\n",
    "\n",
    "# Just for demonstration, turn a letter into a <1 x n_letters> Tensor\n",
    "def letterToTensor(letter):\n",
    "    tensor = torch.zeros(1, n_letters)\n",
    "    tensor[0][letterToIndex(letter)] = 1\n",
    "    return tensor\n",
    "\n",
    "# Turn a line into a <line_length x 1 x n_letters>,\n",
    "# or an array of one-hot letter vectors\n",
    "def lineToTensor(line):\n",
    "    tensor = torch.zeros(len(line), 1, n_letters)\n",
    "    for li, letter in enumerate(line):\n",
    "        tensor[li][0][letterToIndex(letter)] = 1\n",
    "    return tensor\n",
    "\n",
    "print(letterToTensor('J'))\n",
    "\n",
    "print(lineToTensor('Jones').size())"
   ]
  },
  {
   "cell_type": "markdown",
   "metadata": {},
   "source": [
    "## 创建网络\n",
    "\n",
    "在 autograd 之前，在 Torch 中创建一个递归神经网络涉及到在个时间步骤内克隆一个层的参数。\n",
    "这些保持着隐藏状态和梯度的层，现在就被完全由交由图自身处理了。\n",
    "\n",
    "这个 RNN 模型（主要从 <https://pytorch.org/tutorials/beginner/former_torchies/nn_tutorial.html#example-2-recurrent-net> 复制），\n",
    "只有2个线性层，对输入和隐藏状态进行运算，在输出后有一个 LogSoftmax 层。\n",
    "\n",
    "![](https://i.imgur.com/Z2xbySO.png)\n"
   ]
  },
  {
   "cell_type": "code",
   "execution_count": 4,
   "metadata": {
    "collapsed": false
   },
   "outputs": [],
   "source": [
    "import torch.nn as nn\n",
    "\n",
    "class RNN(nn.Module):\n",
    "    def __init__(self, input_size, hidden_size, output_size):\n",
    "        super(RNN, self).__init__()\n",
    "\n",
    "        self.hidden_size = hidden_size\n",
    "\n",
    "        self.i2h = nn.Linear(input_size + hidden_size, hidden_size)\n",
    "        self.i2o = nn.Linear(input_size + hidden_size, output_size)\n",
    "        self.softmax = nn.LogSoftmax(dim=1)\n",
    "\n",
    "    def forward(self, input, hidden):\n",
    "        combined = torch.cat((input, hidden), 1)\n",
    "        hidden = self.i2h(combined)\n",
    "        output = self.i2o(combined)\n",
    "        output = self.softmax(output)\n",
    "        return output, hidden\n",
    "\n",
    "    def initHidden(self):\n",
    "        return torch.zeros(1, self.hidden_size)\n",
    "\n",
    "n_hidden = 128\n",
    "rnn = RNN(n_letters, n_hidden, n_categories)"
   ]
  },
  {
   "cell_type": "markdown",
   "metadata": {},
   "source": [
    "要运行这个网络的一个步骤，我们需要传入一个输入（本例中，输入是当前字母的张量）和一个之前的隐藏状态（第一个代码块中用零初始化的）。\n",
    "我们将得到输出值（每种语言的概率）和下一个隐藏状态（我们为下一个步骤保留它）。\n",
    "\n",
    "\n"
   ]
  },
  {
   "cell_type": "code",
   "execution_count": 5,
   "metadata": {
    "collapsed": false
   },
   "outputs": [],
   "source": [
    "input = letterToTensor('A')\n",
    "hidden =torch.zeros(1, n_hidden)\n",
    "\n",
    "output, next_hidden = rnn(input, hidden)"
   ]
  },
  {
   "cell_type": "markdown",
   "metadata": {},
   "source": [
    "为了提高效率，我们不希望为每一步创建新的 `Tensor`，因此我们将使用 `lineToTensor` 而不是 `letterToTensor`，并使用切片。这可以通过预先计算批量 `Tensors` 达成进一步优化。\n",
    "\n"
   ]
  },
  {
   "cell_type": "code",
   "execution_count": 6,
   "metadata": {
    "collapsed": false
   },
   "outputs": [
    {
     "name": "stdout",
     "output_type": "stream",
     "text": [
      "tensor([[-2.8252, -2.9202, -2.8685, -2.8023, -2.9007, -2.9530, -2.9002, -2.8764,\n",
      "         -2.9512, -2.9461, -2.8628, -2.9676, -2.8661, -2.9226, -2.9126, -2.8640,\n",
      "         -2.8239, -2.8826]], grad_fn=<LogSoftmaxBackward>)\n"
     ]
    }
   ],
   "source": [
    "input = lineToTensor('Albert')\n",
    "hidden = torch.zeros(1, n_hidden)\n",
    "\n",
    "output, next_hidden = rnn(input[0], hidden)\n",
    "print(output)"
   ]
  },
  {
   "cell_type": "markdown",
   "metadata": {},
   "source": [
    "As you can see the output is a ``<1 x n_categories>`` Tensor, where\n",
    "every item is the likelihood of that category (higher is more likely).\n",
    "\n",
    "\n"
   ]
  },
  {
   "cell_type": "markdown",
   "metadata": {
    "toc-hr-collapsed": false
   },
   "source": [
    "## 训练"
   ]
  },
  {
   "cell_type": "markdown",
   "metadata": {},
   "source": [
    "### 准备训练\n",
    "\n",
    "在进入训练之前，我们应该做编写一些辅助函数。\n",
    "第一个是解释网络的输出，让我们直到每个类别的似然度。\n",
    "我们可用 `Tensor.topk` 获取最大值的索引。"
   ]
  },
  {
   "cell_type": "code",
   "execution_count": 7,
   "metadata": {
    "collapsed": false
   },
   "outputs": [
    {
     "name": "stdout",
     "output_type": "stream",
     "text": [
      "('Dutch', 3)\n"
     ]
    }
   ],
   "source": [
    "def categoryFromOutput(output):\n",
    "    top_n, top_i = output.topk(1)\n",
    "    category_i = top_i[0].item()\n",
    "    return all_categories[category_i], category_i\n",
    "\n",
    "print(categoryFromOutput(output))"
   ]
  },
  {
   "cell_type": "markdown",
   "metadata": {},
   "source": [
    "我们还需要能够快速的得到训练样本(名字及其语言)的函数：\n",
    "\n",
    "\n"
   ]
  },
  {
   "cell_type": "code",
   "execution_count": 8,
   "metadata": {
    "collapsed": false
   },
   "outputs": [
    {
     "name": "stdout",
     "output_type": "stream",
     "text": [
      "category = Greek / line = Stroggylis\n",
      "category = Italian / line = Nicolai\n",
      "category = Korean / line = Yu\n",
      "category = French / line = Lebeau\n",
      "category = Arabic / line = Botros\n",
      "category = Polish / line = Piatek\n",
      "category = Dutch / line = Middelburg\n",
      "category = German / line = Lenz\n",
      "category = Russian / line = Levish\n",
      "category = Japanese / line = Onoe\n"
     ]
    }
   ],
   "source": [
    "import random\n",
    "\n",
    "def randomChoice(l):\n",
    "    return l[random.randint(0, len(l) - 1)]\n",
    "\n",
    "def randomTrainingExample():\n",
    "    category = randomChoice(all_categories)\n",
    "    line = randomChoice(category_lines[category])\n",
    "    category_tensor = torch.tensor([all_categories.index(category)], dtype=torch.long)\n",
    "    line_tensor = lineToTensor(line)\n",
    "    return category, line, category_tensor, line_tensor\n",
    "\n",
    "for i in range(10):\n",
    "    category, line, category_tensor, line_tensor = randomTrainingExample()\n",
    "    print('category =', category, '/ line =', line)"
   ]
  },
  {
   "cell_type": "markdown",
   "metadata": {},
   "source": [
    "### 训练网络\n",
    "\n",
    "现在，只要一堆样本就可以训练这个网络了，让它做出猜测，然后告诉它是对是错。\n",
    "\n",
    "因为 RNN 的最后一层是 `nn.LogSoftmax`，损失函数 `nn.NLLLoss` 是合适的。\n",
    "\n",
    "\n"
   ]
  },
  {
   "cell_type": "code",
   "execution_count": 9,
   "metadata": {
    "collapsed": false
   },
   "outputs": [],
   "source": [
    "criterion = nn.NLLLoss()"
   ]
  },
  {
   "cell_type": "markdown",
   "metadata": {},
   "source": [
    "每一轮训练都将：\n",
    "\n",
    "- 创建输入和目标张量\n",
    "- 创建零值初始化的隐藏状态\n",
    "- 读取每个字母，并\n",
    "    - 为下个字母保留隐藏状态\n",
    "- 比较最终输出和目标\n",
    "- 反向传播\n",
    "- 返回输出和损失\n",
    "\n",
    "\n"
   ]
  },
  {
   "cell_type": "code",
   "execution_count": 10,
   "metadata": {
    "collapsed": false
   },
   "outputs": [],
   "source": [
    "learning_rate = 0.005 # If you set this too high, it might explode. If too low, it might not learn\n",
    "\n",
    "def train(category_tensor, line_tensor):\n",
    "    hidden = rnn.initHidden()\n",
    "\n",
    "    rnn.zero_grad()\n",
    "\n",
    "    for i in range(line_tensor.size()[0]):\n",
    "        output, hidden = rnn(line_tensor[i], hidden)\n",
    "\n",
    "    loss = criterion(output, category_tensor)\n",
    "    loss.backward()\n",
    "\n",
    "    # Add parameters' gradients to their values, multiplied by learning rate\n",
    "    for p in rnn.parameters():\n",
    "        p.data.add_(-learning_rate, p.grad.data)\n",
    "\n",
    "    return output, loss.item()"
   ]
  },
  {
   "cell_type": "markdown",
   "metadata": {},
   "source": [
    "现在，我们只需用这一堆样本来运行训练。\n",
    "由于样本有 100 个，我们每 `print_every` 次只打印一个样本，取一次损失平均值。\n",
    "\n",
    "\n"
   ]
  },
  {
   "cell_type": "code",
   "execution_count": 11,
   "metadata": {
    "collapsed": false
   },
   "outputs": [
    {
     "name": "stdout",
     "output_type": "stream",
     "text": [
      "5000 5% (0m 7s) 2.4106 Hamilton / Russian ✗ (Scottish)\n",
      "10000 10% (0m 14s) 1.5545 Thach / Vietnamese ✓\n",
      "15000 15% (0m 21s) 0.1816 Bouloukos / Greek ✓\n",
      "20000 20% (0m 27s) 0.4047 Babenchikov / Russian ✓\n",
      "25000 25% (0m 34s) 2.0310 Black / Scottish ✓\n",
      "30000 30% (0m 41s) 4.2426 Budny / Scottish ✗ (Polish)\n",
      "35000 35% (0m 48s) 0.8464 Sayegh / Arabic ✓\n",
      "40000 40% (0m 54s) 2.0331 Szewc / Korean ✗ (Polish)\n",
      "45000 45% (1m 1s) 0.9588 Cao / Chinese ✗ (Vietnamese)\n",
      "50000 50% (1m 8s) 2.1418 Young / Chinese ✗ (Scottish)\n",
      "55000 55% (1m 15s) 1.4259 Rocha / Portuguese ✗ (Spanish)\n",
      "60000 60% (1m 22s) 1.3695 Totah / Arabic ✓\n",
      "65000 65% (1m 29s) 0.1202 Alberghi / Italian ✓\n",
      "70000 70% (1m 36s) 2.0509 Bang / Chinese ✗ (Korean)\n",
      "75000 75% (1m 43s) 3.0517 Koemans / Greek ✗ (Dutch)\n",
      "80000 80% (1m 50s) 0.5485 Ganim / Arabic ✓\n",
      "85000 85% (1m 57s) 3.0609 Lee / Chinese ✗ (Korean)\n",
      "90000 90% (2m 4s) 0.7343 Perez / Spanish ✓\n",
      "95000 95% (2m 12s) 1.0694 Ahn / Korean ✓\n",
      "100000 100% (2m 18s) 2.9015 Raine / French ✗ (English)\n"
     ]
    }
   ],
   "source": [
    "import time\n",
    "import math\n",
    "\n",
    "n_iters = 100000\n",
    "print_every = 5000\n",
    "plot_every = 1000\n",
    "\n",
    "\n",
    "\n",
    "# Keep track of losses for plotting\n",
    "current_loss = 0\n",
    "all_losses = []\n",
    "\n",
    "def timeSince(since):\n",
    "    now = time.time()\n",
    "    s = now - since\n",
    "    m = math.floor(s / 60)\n",
    "    s -= m * 60\n",
    "    return '%dm %ds' % (m, s)\n",
    "\n",
    "start = time.time()\n",
    "\n",
    "for iter in range(1, n_iters + 1):\n",
    "    category, line, category_tensor, line_tensor = randomTrainingExample()\n",
    "    output, loss = train(category_tensor, line_tensor)\n",
    "    current_loss += loss\n",
    "\n",
    "    # Print iter number, loss, name and guess\n",
    "    if iter % print_every == 0:\n",
    "        guess, guess_i = categoryFromOutput(output)\n",
    "        correct = '✓' if guess == category else '✗ (%s)' % category\n",
    "        print('%d %d%% (%s) %.4f %s / %s %s' % (iter, iter / n_iters * 100, timeSince(start), loss, line, guess, correct))\n",
    "\n",
    "    # Add current loss avg to list of losses\n",
    "    if iter % plot_every == 0:\n",
    "        all_losses.append(current_loss / plot_every)\n",
    "        current_loss = 0"
   ]
  },
  {
   "cell_type": "markdown",
   "metadata": {},
   "source": [
    "### 绘制结果\n",
    "\n",
    "从 `all_losses` 绘制损失历史，展示网络的学习情况：\n",
    "\n",
    "\n"
   ]
  },
  {
   "cell_type": "code",
   "execution_count": 14,
   "metadata": {
    "collapsed": false
   },
   "outputs": [
    {
     "data": {
      "image/png": "[encoded data removed]",
      "text/plain": [
       "<Figure size 432x288 with 1 Axes>"
      ]
     },
     "metadata": {
      "needs_background": "light"
     },
     "output_type": "display_data"
    }
   ],
   "source": [
    "import matplotlib.pyplot as plt\n",
    "import matplotlib.ticker as ticker\n",
    "\n",
    "plt.figure()\n",
    "plt.plot(all_losses)\n",
    "plt.show()"
   ]
  },
  {
   "cell_type": "markdown",
   "metadata": {},
   "source": [
    "## 评估结果\n",
    "\n",
    "为了了解网络在不同类别上的表现，我们将创建一个混淆矩阵，记录每个每个实际语言（行）被网络猜测成了哪个语言（列）。\n",
    "为了计算混淆矩阵，将一组样本传入网络，执行 `evaluate()`，它相当于去掉反向传播的`train()`。\n",
    "\n"
   ]
  },
  {
   "cell_type": "code",
   "execution_count": 15,
   "metadata": {
    "collapsed": false
   },
   "outputs": [
    {
     "data": {
      "image/png": "[encoded data removed]",
      "text/plain": [
       "<Figure size 432x288 with 2 Axes>"
      ]
     },
     "metadata": {
      "needs_background": "light"
     },
     "output_type": "display_data"
    }
   ],
   "source": [
    "# Keep track of correct guesses in a confusion matrix\n",
    "confusion = torch.zeros(n_categories, n_categories)\n",
    "n_confusion = 10000\n",
    "\n",
    "# Just return an output given a line\n",
    "def evaluate(line_tensor):\n",
    "    hidden = rnn.initHidden()\n",
    "\n",
    "    for i in range(line_tensor.size()[0]):\n",
    "        output, hidden = rnn(line_tensor[i], hidden)\n",
    "\n",
    "    return output\n",
    "\n",
    "# Go through a bunch of examples and record which are correctly guessed\n",
    "for i in range(n_confusion):\n",
    "    category, line, category_tensor, line_tensor = randomTrainingExample()\n",
    "    output = evaluate(line_tensor)\n",
    "    guess, guess_i = categoryFromOutput(output)\n",
    "    category_i = all_categories.index(category)\n",
    "    confusion[category_i][guess_i] += 1\n",
    "\n",
    "# Normalize by dividing every row by its sum\n",
    "for i in range(n_categories):\n",
    "    confusion[i] = confusion[i] / confusion[i].sum()\n",
    "\n",
    "# Set up plot\n",
    "fig = plt.figure()\n",
    "ax = fig.add_subplot(111)\n",
    "cax = ax.matshow(confusion.numpy())\n",
    "fig.colorbar(cax)\n",
    "\n",
    "# Set up axes\n",
    "ax.set_xticklabels([''] + all_categories, rotation=90)\n",
    "ax.set_yticklabels([''] + all_categories)\n",
    "\n",
    "# Force label at every tick\n",
    "ax.xaxis.set_major_locator(ticker.MultipleLocator(1))\n",
    "ax.yaxis.set_major_locator(ticker.MultipleLocator(1))\n",
    "\n",
    "# sphinx_gallery_thumbnail_number = 2\n",
    "plt.show()"
   ]
  },
  {
   "cell_type": "markdown",
   "metadata": {},
   "source": [
    "我们可以上找出预测错误的亮点，它表明哪些语言被错误的猜测为其它语言，如汉语与高丽语，西班牙语与意大利语。\n",
    "看起来，它对希腊语效果很好，对英语的效果很可怜（可能是因为英语的名字与其它语言的相覆盖）。\n",
    "\n",
    "\n"
   ]
  },
  {
   "cell_type": "markdown",
   "metadata": {},
   "source": [
    "## 对用户输入进行预测\n",
    "\n",
    "\n"
   ]
  },
  {
   "cell_type": "code",
   "execution_count": 16,
   "metadata": {
    "collapsed": false
   },
   "outputs": [
    {
     "name": "stdout",
     "output_type": "stream",
     "text": [
      "\n",
      "> Dovesky\n",
      "(-0.71) Russian\n",
      "(-1.14) Czech\n",
      "(-2.49) English\n",
      "\n",
      "> Jackson\n",
      "(-0.06) Scottish\n",
      "(-3.47) English\n",
      "(-4.72) Russian\n",
      "\n",
      "> Satoshi\n",
      "(-0.98) Japanese\n",
      "(-1.36) Italian\n",
      "(-2.01) Arabic\n"
     ]
    }
   ],
   "source": [
    "def predict(input_line, n_predictions=3):\n",
    "    print('\\n> %s' % input_line)\n",
    "    with torch.no_grad():\n",
    "        output = evaluate(lineToTensor(input_line))\n",
    "\n",
    "        # Get top N categories\n",
    "        topv, topi = output.topk(n_predictions, 1, True)\n",
    "        predictions = []\n",
    "\n",
    "        for i in range(n_predictions):\n",
    "            value = topv[0][i].item()\n",
    "            category_index = topi[0][i].item()\n",
    "            print('(%.2f) %s' % (value, all_categories[category_index]))\n",
    "            predictions.append([value, all_categories[category_index]])\n",
    "\n",
    "predict('Dovesky')\n",
    "predict('Jackson')\n",
    "predict('Satoshi')"
   ]
  },
  {
   "cell_type": "markdown",
   "metadata": {},
   "source": [
    "The final versions of the scripts `in the Practical PyTorch\n",
    "repo <https://github.com/spro/practical-pytorch/tree/master/char-rnn-classification>`__\n",
    "split the above code into a few files:\n",
    "文中这些代码块的最终版本在 [in the Practical PyTorch repo](https://github.com/spro/practical-pytorch/tree/master/char-rnn-classification)\n",
    "上面的代码被划分到了几个不同文件：\n",
    "\n",
    "- `data.py` (加载文件)\n",
    "- `model.py` (定义 RNN)\n",
    "- `train.py` (运行训练)\n",
    "- `predict.py` (用命令行参数运行 `predict()`)\n",
    "- `server.py` (用 `bottle.py` 运行 JSON API 预测服务)\n",
    "\n",
    "执行 `train.py` 训练和保存网络。\n",
    "\n",
    "执行 `predict.py` 预测名字的预测：\n",
    "\n",
    "```console\n",
    "$ python predict.py Hazaki\n",
    "(-0.42) Japanese\n",
    "(-1.39) Polish\n",
    "(-3.51) Czech\n",
    "```\n",
    "\n",
    "执行 `server.py` 然后访问 <http://localhost:5533/Yourname> 获得 JSON 预测结果。\n",
    "\n",
    "\n"
   ]
  },
  {
   "cell_type": "markdown",
   "metadata": {},
   "source": [
    "## 练习\n",
    "\n",
    "- 尝试不同的 “行 -> 分类” 数据集，例如:\n",
    "    - 任何单词 -> 语言\n",
    "    - 名字 -> 性别\n",
    "    - 角色的名字 -> 作者\n",
    "    - 论文票提 -> blog 还是 reddit\n",
    "- 用更大或者形状更好的网络获得更好的结果\n",
    "    - 增加更多的线性层\n",
    "    - 尝试使用 `nn.LSTM` 和 `nn.GRU` 层\n",
    "    - 将这些 RNN 组合成更高级别的网络\n",
    "\n",
    "\n"
   ]
  }
 ],
 "metadata": {
  "kernelspec": {
   "display_name": "Python 3",
   "language": "python",
   "name": "python3"
  },
  "language_info": {
   "codemirror_mode": {
    "name": "ipython",
    "version": 3
   },
   "file_extension": ".py",
   "mimetype": "text/x-python",
   "name": "python",
   "nbconvert_exporter": "python",
   "pygments_lexer": "ipython3",
   "version": "3.6.7"
  }
 },
 "nbformat": 4,
 "nbformat_minor": 2
}
